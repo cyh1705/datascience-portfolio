{
 "cells": [
  {
   "cell_type": "code",
   "execution_count": 4,
   "id": "5dea872e-df64-4fbf-a8ab-bc169fd92867",
   "metadata": {},
   "outputs": [],
   "source": [
    "import pandas as pd"
   ]
  },
  {
   "cell_type": "code",
   "execution_count": 32,
   "id": "9a4eddfe-8f23-49b3-892a-460f64679df1",
   "metadata": {},
   "outputs": [],
   "source": [
    "df = pd.read_csv(\"C:/Users/dbsvk/OneDrive/바탕 화면/listings_detailed.csv\")"
   ]
  },
  {
   "cell_type": "code",
   "execution_count": 34,
   "id": "9f34967f-dd0d-42a2-aa50-98d525dfb44a",
   "metadata": {},
   "outputs": [
    {
     "name": "stdout",
     "output_type": "stream",
     "text": [
      "      id                         listing_url       scrape_id last_scraped  \\\n",
      "0   6369   https://www.airbnb.com/rooms/6369  20210413152844   2021-04-15   \n",
      "1  21853  https://www.airbnb.com/rooms/21853  20210413152844   2021-04-16   \n",
      "2  23001  https://www.airbnb.com/rooms/23001  20210413152844   2021-04-16   \n",
      "3  24805  https://www.airbnb.com/rooms/24805  20210413152844   2021-04-15   \n",
      "4  26825  https://www.airbnb.com/rooms/26825  20210413152844   2021-04-15   \n",
      "\n",
      "                                       name  \\\n",
      "0  Rooftop terrace room ,  ensuite bathroom   \n",
      "1                      Bright and airy room   \n",
      "2         Apartmento Arganzuela- Madrid Rio   \n",
      "3                    Gran Via Studio Madrid   \n",
      "4        Single Room whith private Bathroom   \n",
      "\n",
      "                                         description  \\\n",
      "0  Excellent connection with the AIRPORT and EXHI...   \n",
      "1  We have a quiet and sunny room with a good vie...   \n",
      "2  Apartamento de tres dormitorios dobles, gran s...   \n",
      "3  Studio located 50 meters from Gran Via, next t...   \n",
      "4  Nice and cozy roon for one person with a priva...   \n",
      "\n",
      "                               neighborhood_overview  \\\n",
      "0                                                NaN   \n",
      "1  We live in a leafy neighbourhood with plenty o...   \n",
      "2  Barrio Arganzuela, junto a Madrid Rio, zonas c...   \n",
      "3  The area is next to the Gran Via, so people li...   \n",
      "4  Es un barrio muy tranquilo, en una zona de Mad...   \n",
      "\n",
      "                                         picture_url    host_id  \\\n",
      "0  https://a0.muscache.com/pictures/683224/4cc318...      13660   \n",
      "1  https://a0.muscache.com/pictures/68483181/87bc...      83531   \n",
      "2  https://a0.muscache.com/pictures/58e6a770-509c...      82175   \n",
      "3  https://a0.muscache.com/pictures/miso/Hosting-...  346366726   \n",
      "4  https://a0.muscache.com/pictures/149358/218d5b...     114340   \n",
      "\n",
      "                                      host_url  ...  \\\n",
      "0      https://www.airbnb.com/users/show/13660  ...   \n",
      "1      https://www.airbnb.com/users/show/83531  ...   \n",
      "2      https://www.airbnb.com/users/show/82175  ...   \n",
      "3  https://www.airbnb.com/users/show/346366726  ...   \n",
      "4     https://www.airbnb.com/users/show/114340  ...   \n",
      "\n",
      "  review_scores_communication review_scores_location review_scores_value  \\\n",
      "0                        10.0                   10.0                10.0   \n",
      "1                        10.0                    8.0                 9.0   \n",
      "2                         NaN                    NaN                 NaN   \n",
      "3                        10.0                   10.0                10.0   \n",
      "4                         9.0                    9.0                 9.0   \n",
      "\n",
      "  license instant_bookable calculated_host_listings_count  \\\n",
      "0     NaN                f                              1   \n",
      "1     NaN                f                              2   \n",
      "2     NaN                f                              7   \n",
      "3     NaN                t                              1   \n",
      "4     NaN                f                              1   \n",
      "\n",
      "  calculated_host_listings_count_entire_homes  \\\n",
      "0                                           0   \n",
      "1                                           0   \n",
      "2                                           6   \n",
      "3                                           1   \n",
      "4                                           0   \n",
      "\n",
      "  calculated_host_listings_count_private_rooms  \\\n",
      "0                                            1   \n",
      "1                                            2   \n",
      "2                                            1   \n",
      "3                                            0   \n",
      "4                                            1   \n",
      "\n",
      "  calculated_host_listings_count_shared_rooms reviews_per_month  \n",
      "0                                           0              0.58  \n",
      "1                                           0              0.42  \n",
      "2                                           0               NaN  \n",
      "3                                           0              0.13  \n",
      "4                                           0              1.12  \n",
      "\n",
      "[5 rows x 74 columns]\n"
     ]
    }
   ],
   "source": [
    "print(df.head())"
   ]
  },
  {
   "cell_type": "code",
   "execution_count": 36,
   "id": "365eec16-486c-41a7-a87b-e5310f412e84",
   "metadata": {},
   "outputs": [
    {
     "name": "stdout",
     "output_type": "stream",
     "text": [
      "<class 'pandas.core.frame.DataFrame'>\n",
      "RangeIndex: 19618 entries, 0 to 19617\n",
      "Data columns (total 74 columns):\n",
      " #   Column                                        Non-Null Count  Dtype  \n",
      "---  ------                                        --------------  -----  \n",
      " 0   id                                            19618 non-null  int64  \n",
      " 1   listing_url                                   19618 non-null  object \n",
      " 2   scrape_id                                     19618 non-null  int64  \n",
      " 3   last_scraped                                  19618 non-null  object \n",
      " 4   name                                          19615 non-null  object \n",
      " 5   description                                   18480 non-null  object \n",
      " 6   neighborhood_overview                         11556 non-null  object \n",
      " 7   picture_url                                   19617 non-null  object \n",
      " 8   host_id                                       19618 non-null  int64  \n",
      " 9   host_url                                      19618 non-null  object \n",
      " 10  host_name                                     19091 non-null  object \n",
      " 11  host_since                                    19091 non-null  object \n",
      " 12  host_location                                 19047 non-null  object \n",
      " 13  host_about                                    9362 non-null   object \n",
      " 14  host_response_time                            11141 non-null  object \n",
      " 15  host_response_rate                            11141 non-null  object \n",
      " 16  host_acceptance_rate                          11016 non-null  object \n",
      " 17  host_is_superhost                             19091 non-null  object \n",
      " 18  host_thumbnail_url                            19091 non-null  object \n",
      " 19  host_picture_url                              19091 non-null  object \n",
      " 20  host_neighbourhood                            12596 non-null  object \n",
      " 21  host_listings_count                           19091 non-null  float64\n",
      " 22  host_total_listings_count                     19091 non-null  float64\n",
      " 23  host_verifications                            19091 non-null  object \n",
      " 24  host_has_profile_pic                          19091 non-null  object \n",
      " 25  host_identity_verified                        19091 non-null  object \n",
      " 26  neighbourhood                                 11556 non-null  object \n",
      " 27  neighbourhood_cleansed                        19618 non-null  object \n",
      " 28  neighbourhood_group_cleansed                  19618 non-null  object \n",
      " 29  latitude                                      19618 non-null  float64\n",
      " 30  longitude                                     19618 non-null  float64\n",
      " 31  property_type                                 19618 non-null  object \n",
      " 32  room_type                                     19618 non-null  object \n",
      " 33  accommodates                                  19618 non-null  int64  \n",
      " 34  bathrooms                                     0 non-null      float64\n",
      " 35  bathrooms_text                                19589 non-null  object \n",
      " 36  bedrooms                                      18123 non-null  float64\n",
      " 37  beds                                          19218 non-null  float64\n",
      " 38  amenities                                     19618 non-null  object \n",
      " 39  price                                         19618 non-null  object \n",
      " 40  minimum_nights                                19618 non-null  int64  \n",
      " 41  maximum_nights                                19618 non-null  int64  \n",
      " 42  minimum_minimum_nights                        19617 non-null  float64\n",
      " 43  maximum_minimum_nights                        19617 non-null  float64\n",
      " 44  minimum_maximum_nights                        19617 non-null  float64\n",
      " 45  maximum_maximum_nights                        19617 non-null  float64\n",
      " 46  minimum_nights_avg_ntm                        19617 non-null  float64\n",
      " 47  maximum_nights_avg_ntm                        19617 non-null  float64\n",
      " 48  calendar_updated                              0 non-null      float64\n",
      " 49  has_availability                              19618 non-null  object \n",
      " 50  availability_30                               19618 non-null  int64  \n",
      " 51  availability_60                               19618 non-null  int64  \n",
      " 52  availability_90                               19618 non-null  int64  \n",
      " 53  availability_365                              19618 non-null  int64  \n",
      " 54  calendar_last_scraped                         19618 non-null  object \n",
      " 55  number_of_reviews                             19618 non-null  int64  \n",
      " 56  number_of_reviews_ltm                         19618 non-null  int64  \n",
      " 57  number_of_reviews_l30d                        19618 non-null  int64  \n",
      " 58  first_review                                  13981 non-null  object \n",
      " 59  last_review                                   13981 non-null  object \n",
      " 60  review_scores_rating                          13713 non-null  float64\n",
      " 61  review_scores_accuracy                        13701 non-null  float64\n",
      " 62  review_scores_cleanliness                     13704 non-null  float64\n",
      " 63  review_scores_checkin                         13703 non-null  float64\n",
      " 64  review_scores_communication                   13703 non-null  float64\n",
      " 65  review_scores_location                        13700 non-null  float64\n",
      " 66  review_scores_value                           13699 non-null  float64\n",
      " 67  license                                       2924 non-null   object \n",
      " 68  instant_bookable                              19618 non-null  object \n",
      " 69  calculated_host_listings_count                19618 non-null  int64  \n",
      " 70  calculated_host_listings_count_entire_homes   19618 non-null  int64  \n",
      " 71  calculated_host_listings_count_private_rooms  19618 non-null  int64  \n",
      " 72  calculated_host_listings_count_shared_rooms   19618 non-null  int64  \n",
      " 73  reviews_per_month                             13981 non-null  float64\n",
      "dtypes: float64(22), int64(17), object(35)\n",
      "memory usage: 11.1+ MB\n",
      "None\n"
     ]
    }
   ],
   "source": [
    "print(df.info())"
   ]
  },
  {
   "cell_type": "code",
   "execution_count": 38,
   "id": "057f49a1-098a-42d9-9f06-6b3730bace0c",
   "metadata": {},
   "outputs": [
    {
     "name": "stdout",
     "output_type": "stream",
     "text": [
      "id                                                 0\n",
      "listing_url                                        0\n",
      "scrape_id                                          0\n",
      "last_scraped                                       0\n",
      "name                                               3\n",
      "                                                ... \n",
      "calculated_host_listings_count                     0\n",
      "calculated_host_listings_count_entire_homes        0\n",
      "calculated_host_listings_count_private_rooms       0\n",
      "calculated_host_listings_count_shared_rooms        0\n",
      "reviews_per_month                               5637\n",
      "Length: 74, dtype: int64\n"
     ]
    }
   ],
   "source": [
    "print(df.isna().sum())"
   ]
  },
  {
   "cell_type": "code",
   "execution_count": 56,
   "id": "651fdb45-4b39-4430-b51f-b4717c471406",
   "metadata": {},
   "outputs": [],
   "source": [
    "mode_val = df[\"neighbourhood_cleansed\"].mode(dropna=True)[0]\n",
    "df[\"neighbourhood_cleansed\"] = df[\"neighbourhood_cleansed\"].fillna(mode_val)"
   ]
  },
  {
   "cell_type": "code",
   "execution_count": 58,
   "id": "6cca9d15-f148-4f56-a7cb-ba4dfcfa1489",
   "metadata": {},
   "outputs": [
    {
     "name": "stdout",
     "output_type": "stream",
     "text": [
      "0\n"
     ]
    }
   ],
   "source": [
    "print(df[\"neighbourhood_cleansed\"].isna().sum())"
   ]
  },
  {
   "cell_type": "code",
   "execution_count": 60,
   "id": "7ad62660-afd5-48ca-b204-aa9814af5c5b",
   "metadata": {},
   "outputs": [
    {
     "name": "stdout",
     "output_type": "stream",
     "text": [
      "neighbourhood_cleansed\n",
      "Embajadores        1412\n",
      "Universidad        1225\n",
      "Palacio             972\n",
      "Sol                 697\n",
      "Justicia            587\n",
      "Cortes              557\n",
      "Palos de Moguer     205\n",
      "Recoletos           204\n",
      "Goya                194\n",
      "Argüelles           180\n",
      "Name: count, dtype: int64\n"
     ]
    }
   ],
   "source": [
    "print(df[\"neighbourhood_cleansed\"].value_counts().head(10))"
   ]
  },
  {
   "cell_type": "code",
   "execution_count": 68,
   "id": "2439a34c-7327-4768-8c00-5452bd554472",
   "metadata": {},
   "outputs": [],
   "source": [
    "df['price'] = pd.to_numeric(df['price'], errors='coerce')\n",
    "avg_price = df.groupby('minimum_minimum_nights')['price'].mean()"
   ]
  },
  {
   "cell_type": "code",
   "execution_count": 70,
   "id": "297222a2-8842-4d2c-a213-577c684a43e5",
   "metadata": {},
   "outputs": [
    {
     "name": "stdout",
     "output_type": "stream",
     "text": [
      "minimum_minimum_nights\n",
      "1.0   NaN\n",
      "2.0   NaN\n",
      "3.0   NaN\n",
      "4.0   NaN\n",
      "5.0   NaN\n",
      "Name: price, dtype: float64\n"
     ]
    }
   ],
   "source": [
    "print(avg_price.head())"
   ]
  },
  {
   "cell_type": "code",
   "execution_count": 74,
   "id": "558d32d8-9326-4a58-a3df-6d6d1ee23d7b",
   "metadata": {},
   "outputs": [
    {
     "name": "stdout",
     "output_type": "stream",
     "text": [
      "Empty DataFrame\n",
      "Columns: []\n",
      "Index: []\n"
     ]
    }
   ],
   "source": [
    "pivot = pd.pivot_table(df, values='price', index='minimum_minimum_nights', columns='room_type', aggfunc='mean')\n",
    "print(pivot)"
   ]
  }
 ],
 "metadata": {
  "kernelspec": {
   "display_name": "Python 3 (ipykernel)",
   "language": "python",
   "name": "python3"
  },
  "language_info": {
   "codemirror_mode": {
    "name": "ipython",
    "version": 3
   },
   "file_extension": ".py",
   "mimetype": "text/x-python",
   "name": "python",
   "nbconvert_exporter": "python",
   "pygments_lexer": "ipython3",
   "version": "3.12.4"
  }
 },
 "nbformat": 4,
 "nbformat_minor": 5
}
