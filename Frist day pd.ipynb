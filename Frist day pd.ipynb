{
 "cells": [
  {
   "cell_type": "code",
   "execution_count": null,
   "id": "0701ef5e-9f52-45f0-8031-8c562d60eedf",
   "metadata": {},
   "outputs": [],
   "source": [
    "import numpy as np"
   ]
  },
  {
   "cell_type": "code",
   "execution_count": 1,
   "id": "8c55ce16-9548-40a5-ad9d-71a4b302d5fd",
   "metadata": {},
   "outputs": [],
   "source": [
    "import pandas as pd"
   ]
  },
  {
   "cell_type": "code",
   "execution_count": 17,
   "id": "34997a68-9c04-459f-b5b1-54ef07ba86bd",
   "metadata": {},
   "outputs": [
    {
     "name": "stdout",
     "output_type": "stream",
     "text": [
      "      Ciudad  Población  Promedio de Alquiler\n",
      "0     Madrid        3.3                  1200\n",
      "1  Barcelona        1.6                   900\n",
      "2    Sevilla        0.7                   700\n"
     ]
    }
   ],
   "source": [
    "data = {\n",
    "    \"Ciudad\" : [\"Madrid\", \"Barcelona\", \"Sevilla\"],\n",
    "    \"Población\" : [3.3, 1.6, 0.7],\n",
    "    \"Promedio de Alquiler\" : [1200, 900, 700]\n",
    "}\n",
    "\n",
    "df= pd.DataFrame(data)\n",
    "print(df)"
   ]
  },
  {
   "cell_type": "code",
   "execution_count": 7,
   "id": "800810c0-a2db-4a0b-8561-4d018dcf6145",
   "metadata": {},
   "outputs": [
    {
     "name": "stdout",
     "output_type": "stream",
     "text": [
      "기본 정보\n",
      "<class 'pandas.core.frame.DataFrame'>\n",
      "RangeIndex: 3 entries, 0 to 2\n",
      "Data columns (total 3 columns):\n",
      " #   Column                Non-Null Count  Dtype  \n",
      "---  ------                --------------  -----  \n",
      " 0   Ciudad                3 non-null      object \n",
      " 1   Población             3 non-null      float64\n",
      " 2   Promedio de Alquiler  3 non-null      int64  \n",
      "dtypes: float64(1), int64(1), object(1)\n",
      "memory usage: 204.0+ bytes\n",
      "None\n"
     ]
    }
   ],
   "source": [
    "print(\"기본 정보\")\n",
    "print(df.info())"
   ]
  },
  {
   "cell_type": "code",
   "execution_count": 9,
   "id": "ee6e8d75-bda6-4b79-b9f9-e95e81736f10",
   "metadata": {},
   "outputs": [
    {
     "name": "stdout",
     "output_type": "stream",
     "text": [
      "\n",
      "기술 통계\n",
      "       Población  Promedio de Alquiler\n",
      "count   3.000000              3.000000\n",
      "mean    1.866667            933.333333\n",
      "std     1.320353            251.661148\n",
      "min     0.700000            700.000000\n",
      "25%     1.150000            800.000000\n",
      "50%     1.600000            900.000000\n",
      "75%     2.450000           1050.000000\n",
      "max     3.300000           1200.000000\n"
     ]
    }
   ],
   "source": [
    "print(\"\\n기술 통계\")\n",
    "print(df.describe())"
   ]
  },
  {
   "cell_type": "code",
   "execution_count": 11,
   "id": "7a5d692d-3870-48a9-ad12-85d6eb3a1a13",
   "metadata": {},
   "outputs": [
    {
     "name": "stdout",
     "output_type": "stream",
     "text": [
      "\n",
      "열 이름 보기: Index(['Ciudad', 'Población', 'Promedio de Alquiler'], dtype='object')\n"
     ]
    }
   ],
   "source": [
    "print(\"\\n열 이름 보기:\", df.columns)"
   ]
  },
  {
   "cell_type": "code",
   "execution_count": 15,
   "id": "77b89265-de27-48a1-95df-d53a88c131a1",
   "metadata": {},
   "outputs": [
    {
     "name": "stdout",
     "output_type": "stream",
     "text": [
      "\n",
      "Madrid의 임대료: 0    1200\n",
      "Name: Promedio de Alquiler, dtype: int64\n"
     ]
    }
   ],
   "source": [
    "print(\"\\nMadrid의 임대료:\", df.loc[df[\"Ciudad\"] == \"Madrid\", \"Promedio de Alquiler\"])"
   ]
  },
  {
   "cell_type": "code",
   "execution_count": null,
   "id": "1cd81ff7-3c0b-40ba-93ea-fd3158fd79b2",
   "metadata": {},
   "outputs": [],
   "source": []
  }
 ],
 "metadata": {
  "kernelspec": {
   "display_name": "Python 3 (ipykernel)",
   "language": "python",
   "name": "python3"
  },
  "language_info": {
   "codemirror_mode": {
    "name": "ipython",
    "version": 3
   },
   "file_extension": ".py",
   "mimetype": "text/x-python",
   "name": "python",
   "nbconvert_exporter": "python",
   "pygments_lexer": "ipython3",
   "version": "3.12.4"
  }
 },
 "nbformat": 4,
 "nbformat_minor": 5
}
